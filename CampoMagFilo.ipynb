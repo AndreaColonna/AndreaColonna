{
  "nbformat": 4,
  "nbformat_minor": 0,
  "metadata": {
    "colab": {
      "private_outputs": true,
      "provenance": [],
      "authorship_tag": "ABX9TyO++Ms7Cfky6jSgzAoPzyCJ",
      "include_colab_link": true
    },
    "kernelspec": {
      "name": "python3",
      "display_name": "Python 3"
    },
    "language_info": {
      "name": "python"
    }
  },
  "cells": [
    {
      "cell_type": "markdown",
      "metadata": {
        "id": "view-in-github",
        "colab_type": "text"
      },
      "source": [
        "<a href=\"https://colab.research.google.com/github/AndreaColonna/AndreaColonna/blob/main/CampoMagFilo.ipynb\" target=\"_parent\"><img src=\"https://colab.research.google.com/assets/colab-badge.svg\" alt=\"Open In Colab\"/></a>"
      ]
    },
    {
      "cell_type": "markdown",
      "source": [
        "#Campo magnetico generato da un filo rettilineo"
      ],
      "metadata": {
        "id": "uucwlWTKXqVQ"
      }
    },
    {
      "cell_type": "markdown",
      "source": [
        "Nel caso del campo elettrico abbiamo visil campo E di un filo uniformemente carico, ora vediamo il campo magnetico generato da un filo rettilineo percorso da corrente. Ricordiamo che solo le cariche in moto generano effetti magnetici."
      ],
      "metadata": {
        "id": "OpAN_PnqX3Ow"
      }
    },
    {
      "cell_type": "markdown",
      "source": [
        "Prima di iniziare vogliamo capire un concetto importante."
      ],
      "metadata": {
        "id": "kMXhnmI-X8EP"
      }
    },
    {
      "cell_type": "markdown",
      "source": [
        "![image.png](data:image/png;base64,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)\n",
        "Questo è un filo percorso da corrente, non un filo sul quale abbiamo posto una distribuzione di carica λ.\n",
        "\n",
        "C’è una differenza molto importante. In un filo percorso da corrente sono presenti cariche positive ferme (i nuclei degli atomi) e cariche negative mobili (gli elettroni). La corrente è dovuta agli elettroni che si stanno spostando.\n",
        "\n",
        "Se sono presenti cariche di entrambi i segni vuol dire che il filo è elettricamente neutro. Anche se le cariche negative si stanno spostando, la neutralità è conservata."
      ],
      "metadata": {
        "id": "g1OD9-NVX_OI"
      }
    },
    {
      "cell_type": "markdown",
      "source": [
        "Un filo conduttore non emette campo elettrico perchè è neutro. Emette solo campo magnetico.\n",
        "\n",
        "Studiamo allora cosa crea, a livello magnetico, la corrente che scorre nel filo."
      ],
      "metadata": {
        "id": "PsLVI5HsYRdw"
      }
    },
    {
      "cell_type": "markdown",
      "source": [
        "P è il punto nel quale vogliamo osservare il campo magnetico generato.\n",
        "\n",
        "Idy (quello in rosso) è il tratto infinitesimo che genera il campo dB sempre infinitesimo.\n",
        "\n",
        "Idy è la sorgente di dB.\n",
        "\n",
        "\n",
        "\n",
        "![image.png](data:image/png;base64,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)"
      ],
      "metadata": {
        "id": "tL-JlWljYjxD"
      }
    },
    {
      "cell_type": "markdown",
      "source": [
        "Dato che stiamo studiando il campo generato e non l’effetto su di una carica o su di una corrente, dobbiamo usare la prima equazione di Laplace."
      ],
      "metadata": {
        "id": "q9NWq7ghYsUK"
      }
    },
    {
      "cell_type": "markdown",
      "source": [
        "$\\vec{B}=\\frac{\\mu_0}{4\\pi}\\left( I \\textrm{d}\\vec{L} \\right) \\times \\left( \\frac{\\vec{r}}{r^3} \\right)$"
      ],
      "metadata": {
        "id": "Pb8dIj1WY8a2"
      }
    },
    {
      "cell_type": "markdown",
      "source": [
        "Qual’è la direzione e il verso del vettore induzione magnetica ? Ce lo dice la regola della mano destra. Pollice dL , indice r , medio B."
      ],
      "metadata": {
        "id": "DWzD492AaFbC"
      }
    },
    {
      "cell_type": "markdown",
      "source": [
        "![image.png](data:image/png;base64,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)\n",
        "Cerchiamo di capire il disegno.\n",
        "\n",
        "Il vettore B è entrante nello schermo.\n",
        "\n",
        "Il punto P dista x dal filo. Il tratto infinitesimo IdL dista y dall’origine. r è la distanza della sorgente infinitesima I dy da P\n",
        "\n",
        "Se indichiamo con θ l’angolo tra l’asse x e r , quello tra y e r sarà π/2 + θ (quello in rosso)."
      ],
      "metadata": {
        "id": "1xOJ3la_aI0q"
      }
    },
    {
      "cell_type": "markdown",
      "source": [],
      "metadata": {
        "id": "Ijj2jAEraR-a"
      }
    },
    {
      "cell_type": "markdown",
      "source": [
        "Scriviamo il modulo del contributo dB al campo magnetico dovuto a Idy"
      ],
      "metadata": {
        "id": "FOFnzqpYao0H"
      }
    },
    {
      "cell_type": "markdown",
      "source": [
        "$𝚍B=\\frac{\\mu_0}{4\\pi}\\frac{I𝚍y}{r^2}\\sin\\left(\\frac{\\pi}{2}+\\theta\\right)$"
      ],
      "metadata": {
        "id": "6ot0PkdxatIE"
      }
    },
    {
      "cell_type": "markdown",
      "source": [
        "In pratica abbiamo svolto il prodotto vettoriale.\n",
        "\n",
        "Ci vuole ora un ricordo di trigonometria"
      ],
      "metadata": {
        "id": "OoMte0Veb3QE"
      }
    },
    {
      "cell_type": "markdown",
      "source": [
        "$\\sin\\left(\\frac{\\pi}{2}+\\theta\\right)=\\cos(\\theta)$\n",
        "\n",
        "Lo sostituiamo\n",
        "\n",
        "$𝚍B=\\frac{\\mu_0}{4\\pi}\\frac{I𝚍y}{r^2}\\cos(\\theta)$"
      ],
      "metadata": {
        "id": "eNq34o3Bb6t0"
      }
    },
    {
      "cell_type": "markdown",
      "source": [
        "Per avere il valore totale del campo magnetico dobbiamo integrare dB lungo tutto il filo. Mentre percorriamo il filo dal basso verso l’alto, nell’integrazione, abbiamo diverse variabili. L’angolo θ varia, Il raggio r anche e il dy pure. Sono troppe. Vogliamo esprimere tutto in funzione dell’angolo θ.\n",
        "\n",
        "Dalla figura"
      ],
      "metadata": {
        "id": "gUtYfqWiccnf"
      }
    },
    {
      "cell_type": "markdown",
      "source": [
        "$y=x\\tan(\\theta)$\n",
        "\n",
        "Differenziamo\n",
        "\n",
        "$dy=x𝚍(\\tan\\theta)$\n",
        "\n",
        "x non lo dobbiamo differenziare perchè è costante.\n",
        "\n",
        "$𝚍(\\tan\\theta)=\\frac{𝚍 \\theta}{\\cos^2\\theta}$\n",
        "\n",
        "$𝚍y=\\frac{x𝚍\\theta}{\\cos^2\\theta}$\n",
        "\n",
        "Abbiamo così espresso dy in funzione dell’angolo θ. Facciamo la stessa cosa anche per il raggio r."
      ],
      "metadata": {
        "id": "35_aslgucggP"
      }
    },
    {
      "cell_type": "markdown",
      "source": [
        "Sempre dalla figura\n",
        "\n",
        "$x=r\\cos\\theta ⇒ r=\\frac{x}{\\cos\\theta}$"
      ],
      "metadata": {
        "id": "BgMr4okDdk2t"
      }
    },
    {
      "cell_type": "markdown",
      "source": [
        "Ora sostituiamo dy e r ,così trovati, nell’espressione di dB"
      ],
      "metadata": {
        "id": "tgjlW8I9d282"
      }
    },
    {
      "cell_type": "markdown",
      "source": [
        "$𝚍B=\\frac{\\mu_0}{4\\pi}\\frac{I𝚍y}{r^2}\\cos\\theta=\\frac{\\mu_0I}{4\\pi}\\frac{\\frac{x𝚍\\theta}{\\cos^2\\theta}}{\\frac{x^2}{\\cos^2\\theta}}\\cos\\theta$\n",
        "\n",
        "Possiamo fare delle semplificazioni\n",
        "\n",
        "$𝚍B=\\frac{\\mu_0I}{4\\pi x}\\cos\\theta 𝚍\\theta$\n",
        "\n",
        "Questo è il contributo al campo magnetico generato dal pezzetto Idy. Ora integriamo lungo tutto il filo."
      ],
      "metadata": {
        "id": "VTL4dqmHd7AT"
      }
    },
    {
      "cell_type": "markdown",
      "source": [
        "![image.png](data:image/png;base64,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)\n",
        "$B=\\frac{\\mu_o I}{4\\pi x}\\int^{\\beta}_{-\\alpha}\\cos\\theta 𝚍\\theta=\\frac{\\mu_o I}{4\\pi x}\\left[\\sin(\\beta)-\\sin(-\\alpha) \\right]$"
      ],
      "metadata": {
        "id": "HgUoNzO2fFst"
      }
    },
    {
      "cell_type": "markdown",
      "source": [
        "Abbiamo messo -α nell’estremo inferiore di integrazione perchè l’angolo è sotto l’asse x.\n",
        "\n",
        "Attingiamo di nuovo alla trigonometria.\n",
        "\n",
        "$\\sin(-\\alpha)=-\\sin(\\alpha)$.\n",
        "\n",
        "$B=\\frac{\\mu_0 I}{4 \\pi x}[\\sin\\beta+\\sin\\alpha]$"
      ],
      "metadata": {
        "id": "T6aUNMJRgm5g"
      }
    },
    {
      "cell_type": "markdown",
      "source": [
        "I due contributi, quello della parte inferiore (sotto l’asse x) e quella della parte superiore si sommano. In effetti i vettori induzione magnetica di entrambi sono entranti nel filo. Costituiscono un doppio contributo.\n"
      ],
      "metadata": {
        "id": "k0fRsFNShJyc"
      }
    },
    {
      "cell_type": "markdown",
      "source": [
        "\n",
        "$\\mu_0=4\\pi\\cdot 10^{-7}\\,N/A^2$\n",
        "\n",
        "  $I=3\\,A$ \n",
        "\n",
        "$x=5\\, cm$\n",
        "\n",
        "\n",
        "$B=7\\,\\mu T$\n",
        "\n",
        "$[\\sin(\\beta)+\\sin\\alpha]=\\frac{4 \\pi x B}{\\mu_0 I}$\n",
        "\n",
        "\n"
      ],
      "metadata": {
        "id": "i6iQbURzhT7o"
      }
    },
    {
      "cell_type": "markdown",
      "source": [
        "Se $\\alpha=\\beta$   \n",
        "$\\alpha=\\sin^{-1}\\left(\\frac{4 \\pi x B}{2\\mu_0 I}\\right)=35.68°$"
      ],
      "metadata": {
        "id": "9JQNQgpqkXvO"
      }
    },
    {
      "cell_type": "markdown",
      "source": [
        "\n",
        "\n",
        "---\n",
        "\n",
        "\n",
        "\n",
        "Se $\\alpha=\\beta =50°$\n",
        "\n",
        "$B=9.2\\,\\mu T $\n",
        "\n",
        "$l=2\\cdot x\\sin(50)=12\\, cm$"
      ],
      "metadata": {
        "id": "idlejtz9mWXQ"
      }
    },
    {
      "cell_type": "markdown",
      "source": [
        "\n",
        "\n",
        "---\n",
        "\n",
        "\n",
        "Se $\\alpha=\\beta =50°$\n",
        "\n",
        "$x=6\\,cm$\n",
        "\n",
        "$B=7.6\\,\\mu T $\n",
        "\n",
        "$l=2\\cdot x\\sin(50)=14.3\\, cm$"
      ],
      "metadata": {
        "id": "LNMRZumXpFjZ"
      }
    },
    {
      "cell_type": "markdown",
      "source": [
        "\n",
        "\n",
        "---\n",
        "\n",
        "\n",
        "Se $\\alpha=\\beta =55°$\n",
        "\n",
        "$x=7\\,cm$\n",
        "\n",
        "$B=7.0\\,\\mu T $\n",
        "\n",
        "$l=2\\cdot x\\sin(55)=20\\, cm$"
      ],
      "metadata": {
        "id": "_0MmsHqFplYQ"
      }
    }
  ]
}